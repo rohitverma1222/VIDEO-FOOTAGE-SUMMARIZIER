{
 "cells": [
  {
   "cell_type": "code",
   "execution_count": 2,
   "id": "5c4ba7ef",
   "metadata": {},
   "outputs": [
    {
     "ename": "NameError",
     "evalue": "name 'hello' is not defined",
     "output_type": "error",
     "traceback": [
      "\u001b[0;31m---------------------------------------------------------------------------\u001b[0m",
      "\u001b[0;31mNameError\u001b[0m                                 Traceback (most recent call last)",
      "Cell \u001b[0;32mIn[2], line 1\u001b[0m\n\u001b[0;32m----> 1\u001b[0m \u001b[38;5;28mprint\u001b[39m(\u001b[43mhello\u001b[49m     )\n",
      "\u001b[0;31mNameError\u001b[0m: name 'hello' is not defined"
     ]
    }
   ],
   "source": []
  },
  {
   "cell_type": "code",
   "execution_count": 3,
   "id": "1c84aaab",
   "metadata": {},
   "outputs": [
    {
     "name": "stdout",
     "output_type": "stream",
     "text": [
      "hell\n"
     ]
    }
   ],
   "source": [
    "print(\"hell\")"
   ]
  },
  {
   "cell_type": "code",
   "execution_count": 6,
   "id": "03846cb8",
   "metadata": {},
   "outputs": [
    {
     "name": "stdout",
     "output_type": "stream",
     "text": [
      "sharma\n"
     ]
    }
   ],
   "source": [
    "hello={\n",
    "    \"key\":\"value\",\n",
    "    \"rohit\":\"verma\",\n",
    "}\n",
    "hello[\"key\"]=\"sharma\"\n",
    "print(hello[\"key\"])"
   ]
  },
  {
   "cell_type": "code",
   "execution_count": 10,
   "id": "4db3d461",
   "metadata": {},
   "outputs": [],
   "source": [
    "uni=set()\n",
    "uni.add(\"1\")\n",
    "uni.add(\"1\")\n",
    "uni.add(\"2\")\n",
    "hello[\"key\"]=uni"
   ]
  },
  {
   "cell_type": "code",
   "execution_count": 11,
   "id": "26124141",
   "metadata": {},
   "outputs": [
    {
     "name": "stdout",
     "output_type": "stream",
     "text": [
      "{'2', '1'}\n"
     ]
    }
   ],
   "source": [
    "print(hello[\"key\"])"
   ]
  },
  {
   "cell_type": "code",
   "execution_count": null,
   "id": "40b56c75",
   "metadata": {},
   "outputs": [],
   "source": [
    "dict={\n",
    "    1:{'person','dog','person'},\n",
    "    2:{'dog'}\n",
    "}\n",
    "\n",
    "\n",
    "\n",
    "\n",
    "\n",
    "\n",
    "\n",
    "\n",
    "\n"
   ]
  }
 ],
 "metadata": {
  "kernelspec": {
   "display_name": "Python 3 (ipykernel)",
   "language": "python",
   "name": "python3"
  },
  "language_info": {
   "codemirror_mode": {
    "name": "ipython",
    "version": 3
   },
   "file_extension": ".py",
   "mimetype": "text/x-python",
   "name": "python",
   "nbconvert_exporter": "python",
   "pygments_lexer": "ipython3",
   "version": "3.8.10"
  }
 },
 "nbformat": 4,
 "nbformat_minor": 5
}
